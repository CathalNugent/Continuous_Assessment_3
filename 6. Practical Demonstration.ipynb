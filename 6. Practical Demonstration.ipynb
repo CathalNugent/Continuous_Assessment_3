{
 "cells": [
  {
   "cell_type": "markdown",
   "id": "09e6592b",
   "metadata": {},
   "source": [
    "## Practical Demonstration"
   ]
  },
  {
   "cell_type": "markdown",
   "id": "2a487990",
   "metadata": {},
   "source": [
    "Following my paper, I came across this dataset tracking a typical training week for a number of high-level running athletes. "
   ]
  },
  {
   "cell_type": "code",
   "execution_count": 14,
   "id": "8507d480",
   "metadata": {},
   "outputs": [],
   "source": [
    "#pip install tensorflow"
   ]
  },
  {
   "cell_type": "code",
   "execution_count": 52,
   "id": "0ccfccb0",
   "metadata": {},
   "outputs": [],
   "source": [
    "# Import libraries\n",
    "import pandas as pd\n",
    "from sklearn.model_selection import train_test_split\n",
    "from sklearn.preprocessing import StandardScaler\n",
    "from tensorflow.keras.models import Sequential\n",
    "from tensorflow.keras.layers import Dense\n",
    "from sklearn.metrics import confusion_matrix, roc_curve, auc, precision_score\n",
    "import seaborn as sns\n",
    "import matplotlib.pyplot as plt\n",
    "import numpy as np\n",
    "from sklearn.utils.class_weight import compute_class_weight"
   ]
  },
  {
   "cell_type": "code",
   "execution_count": 53,
   "id": "9fa52701",
   "metadata": {},
   "outputs": [],
   "source": [
    "# Turn off warnings\n",
    "import warnings\n",
    "warnings.filterwarnings(\"ignore\")"
   ]
  },
  {
   "cell_type": "markdown",
   "id": "3985afcb",
   "metadata": {},
   "source": [
    "### Section 1: Data Exploration"
   ]
  },
  {
   "cell_type": "code",
   "execution_count": 54,
   "id": "1f799ff6",
   "metadata": {},
   "outputs": [
    {
     "data": {
      "text/html": [
       "<div>\n",
       "<style scoped>\n",
       "    .dataframe tbody tr th:only-of-type {\n",
       "        vertical-align: middle;\n",
       "    }\n",
       "\n",
       "    .dataframe tbody tr th {\n",
       "        vertical-align: top;\n",
       "    }\n",
       "\n",
       "    .dataframe thead th {\n",
       "        text-align: right;\n",
       "    }\n",
       "</style>\n",
       "<table border=\"1\" class=\"dataframe\">\n",
       "  <thead>\n",
       "    <tr style=\"text-align: right;\">\n",
       "      <th></th>\n",
       "      <th>nr. sessions</th>\n",
       "      <th>nr. rest days</th>\n",
       "      <th>total kms</th>\n",
       "      <th>max km one day</th>\n",
       "      <th>total km Z3-Z4-Z5-T1-T2</th>\n",
       "      <th>nr. tough sessions (effort in Z5, T1 or T2)</th>\n",
       "      <th>nr. days with interval session</th>\n",
       "      <th>total km Z3-4</th>\n",
       "      <th>max km Z3-4 one day</th>\n",
       "      <th>total km Z5-T1-T2</th>\n",
       "      <th>...</th>\n",
       "      <th>max training success.2</th>\n",
       "      <th>avg recovery.2</th>\n",
       "      <th>min recovery.2</th>\n",
       "      <th>max recovery.2</th>\n",
       "      <th>Athlete ID</th>\n",
       "      <th>injury</th>\n",
       "      <th>rel total kms week 0_1</th>\n",
       "      <th>rel total kms week 0_2</th>\n",
       "      <th>rel total kms week 1_2</th>\n",
       "      <th>Date</th>\n",
       "    </tr>\n",
       "  </thead>\n",
       "  <tbody>\n",
       "    <tr>\n",
       "      <th>0</th>\n",
       "      <td>5.0</td>\n",
       "      <td>2.0</td>\n",
       "      <td>22.2</td>\n",
       "      <td>16.4</td>\n",
       "      <td>11.8</td>\n",
       "      <td>1.0</td>\n",
       "      <td>2.0</td>\n",
       "      <td>10.0</td>\n",
       "      <td>10.0</td>\n",
       "      <td>0.6</td>\n",
       "      <td>...</td>\n",
       "      <td>0.0</td>\n",
       "      <td>0.18</td>\n",
       "      <td>0.16</td>\n",
       "      <td>0.20</td>\n",
       "      <td>0</td>\n",
       "      <td>0</td>\n",
       "      <td>0.718447</td>\n",
       "      <td>1.378882</td>\n",
       "      <td>1.919255</td>\n",
       "      <td>0</td>\n",
       "    </tr>\n",
       "    <tr>\n",
       "      <th>1</th>\n",
       "      <td>5.0</td>\n",
       "      <td>2.0</td>\n",
       "      <td>21.6</td>\n",
       "      <td>16.4</td>\n",
       "      <td>11.7</td>\n",
       "      <td>1.0</td>\n",
       "      <td>2.0</td>\n",
       "      <td>10.0</td>\n",
       "      <td>10.0</td>\n",
       "      <td>0.5</td>\n",
       "      <td>...</td>\n",
       "      <td>0.0</td>\n",
       "      <td>0.18</td>\n",
       "      <td>0.16</td>\n",
       "      <td>0.20</td>\n",
       "      <td>0</td>\n",
       "      <td>0</td>\n",
       "      <td>0.683544</td>\n",
       "      <td>1.018868</td>\n",
       "      <td>1.490566</td>\n",
       "      <td>1</td>\n",
       "    </tr>\n",
       "    <tr>\n",
       "      <th>2</th>\n",
       "      <td>5.0</td>\n",
       "      <td>2.0</td>\n",
       "      <td>21.6</td>\n",
       "      <td>16.4</td>\n",
       "      <td>11.7</td>\n",
       "      <td>1.0</td>\n",
       "      <td>2.0</td>\n",
       "      <td>10.0</td>\n",
       "      <td>10.0</td>\n",
       "      <td>0.5</td>\n",
       "      <td>...</td>\n",
       "      <td>0.0</td>\n",
       "      <td>0.17</td>\n",
       "      <td>0.16</td>\n",
       "      <td>0.18</td>\n",
       "      <td>0</td>\n",
       "      <td>0</td>\n",
       "      <td>0.683544</td>\n",
       "      <td>1.018868</td>\n",
       "      <td>1.490566</td>\n",
       "      <td>2</td>\n",
       "    </tr>\n",
       "    <tr>\n",
       "      <th>3</th>\n",
       "      <td>5.0</td>\n",
       "      <td>2.0</td>\n",
       "      <td>21.6</td>\n",
       "      <td>16.4</td>\n",
       "      <td>11.7</td>\n",
       "      <td>1.0</td>\n",
       "      <td>2.0</td>\n",
       "      <td>10.0</td>\n",
       "      <td>10.0</td>\n",
       "      <td>0.5</td>\n",
       "      <td>...</td>\n",
       "      <td>0.0</td>\n",
       "      <td>0.18</td>\n",
       "      <td>0.16</td>\n",
       "      <td>0.18</td>\n",
       "      <td>0</td>\n",
       "      <td>0</td>\n",
       "      <td>0.683544</td>\n",
       "      <td>1.018868</td>\n",
       "      <td>1.490566</td>\n",
       "      <td>3</td>\n",
       "    </tr>\n",
       "    <tr>\n",
       "      <th>4</th>\n",
       "      <td>6.0</td>\n",
       "      <td>1.0</td>\n",
       "      <td>39.2</td>\n",
       "      <td>17.6</td>\n",
       "      <td>18.9</td>\n",
       "      <td>1.0</td>\n",
       "      <td>3.0</td>\n",
       "      <td>17.2</td>\n",
       "      <td>10.0</td>\n",
       "      <td>0.5</td>\n",
       "      <td>...</td>\n",
       "      <td>0.0</td>\n",
       "      <td>0.17</td>\n",
       "      <td>0.16</td>\n",
       "      <td>0.18</td>\n",
       "      <td>0</td>\n",
       "      <td>0</td>\n",
       "      <td>2.202247</td>\n",
       "      <td>1.361111</td>\n",
       "      <td>0.618056</td>\n",
       "      <td>4</td>\n",
       "    </tr>\n",
       "  </tbody>\n",
       "</table>\n",
       "<p>5 rows × 72 columns</p>\n",
       "</div>"
      ],
      "text/plain": [
       "   nr. sessions  nr. rest days  total kms  max km one day  \\\n",
       "0           5.0            2.0       22.2            16.4   \n",
       "1           5.0            2.0       21.6            16.4   \n",
       "2           5.0            2.0       21.6            16.4   \n",
       "3           5.0            2.0       21.6            16.4   \n",
       "4           6.0            1.0       39.2            17.6   \n",
       "\n",
       "   total km Z3-Z4-Z5-T1-T2  nr. tough sessions (effort in Z5, T1 or T2)  \\\n",
       "0                     11.8                                          1.0   \n",
       "1                     11.7                                          1.0   \n",
       "2                     11.7                                          1.0   \n",
       "3                     11.7                                          1.0   \n",
       "4                     18.9                                          1.0   \n",
       "\n",
       "   nr. days with interval session  total km Z3-4  max km Z3-4 one day  \\\n",
       "0                             2.0           10.0                 10.0   \n",
       "1                             2.0           10.0                 10.0   \n",
       "2                             2.0           10.0                 10.0   \n",
       "3                             2.0           10.0                 10.0   \n",
       "4                             3.0           17.2                 10.0   \n",
       "\n",
       "   total km Z5-T1-T2  ...  max training success.2  avg recovery.2  \\\n",
       "0                0.6  ...                     0.0            0.18   \n",
       "1                0.5  ...                     0.0            0.18   \n",
       "2                0.5  ...                     0.0            0.17   \n",
       "3                0.5  ...                     0.0            0.18   \n",
       "4                0.5  ...                     0.0            0.17   \n",
       "\n",
       "   min recovery.2  max recovery.2  Athlete ID  injury  rel total kms week 0_1  \\\n",
       "0            0.16            0.20           0       0                0.718447   \n",
       "1            0.16            0.20           0       0                0.683544   \n",
       "2            0.16            0.18           0       0                0.683544   \n",
       "3            0.16            0.18           0       0                0.683544   \n",
       "4            0.16            0.18           0       0                2.202247   \n",
       "\n",
       "   rel total kms week 0_2  rel total kms week 1_2  Date  \n",
       "0                1.378882                1.919255     0  \n",
       "1                1.018868                1.490566     1  \n",
       "2                1.018868                1.490566     2  \n",
       "3                1.018868                1.490566     3  \n",
       "4                1.361111                0.618056     4  \n",
       "\n",
       "[5 rows x 72 columns]"
      ]
     },
     "execution_count": 54,
     "metadata": {},
     "output_type": "execute_result"
    }
   ],
   "source": [
    "# Read the CSV file\n",
    "df = pd.read_csv('Data.csv')\n",
    "\n",
    "# Display \n",
    "df.head()"
   ]
  },
  {
   "cell_type": "code",
   "execution_count": 55,
   "id": "e7888040",
   "metadata": {},
   "outputs": [
    {
     "data": {
      "text/plain": [
       "(42798, 72)"
      ]
     },
     "execution_count": 55,
     "metadata": {},
     "output_type": "execute_result"
    }
   ],
   "source": [
    "df.shape\n",
    "#df.columns.tolist()\n",
    "#df.info()"
   ]
  },
  {
   "cell_type": "code",
   "execution_count": 56,
   "id": "5b7badf7",
   "metadata": {},
   "outputs": [
    {
     "name": "stdout",
     "output_type": "stream",
     "text": [
      "\n",
      "Total Missing Values in the DataFrame: 0\n"
     ]
    }
   ],
   "source": [
    "# Searching for missing values\n",
    "total_missing_values = df.isnull().sum().sum()\n",
    "print(\"\\nTotal Missing Values in the DataFrame:\", total_missing_values)"
   ]
  },
  {
   "cell_type": "code",
   "execution_count": 57,
   "id": "21798e3d",
   "metadata": {},
   "outputs": [],
   "source": [
    "grouped_df = df.groupby('Athlete ID').agg({\n",
    "    'nr. sessions': 'mean',\n",
    "    'total kms': 'mean',\n",
    "    'injury': 'max', \n",
    "})\n",
    "\n",
    "#Reset index\n",
    "grouped_df.reset_index(inplace=True)\n",
    "\n",
    "#grouped_df"
   ]
  },
  {
   "cell_type": "code",
   "execution_count": 58,
   "id": "b8efca42",
   "metadata": {},
   "outputs": [
    {
     "data": {
      "image/png": "[encoded data removed]",
      "text/plain": [
       "<Figure size 1200x600 with 2 Axes>"
      ]
     },
     "metadata": {},
     "output_type": "display_data"
    }
   ],
   "source": [
    "# Size\n",
    "plt.figure(figsize=(12, 6))\n",
    "\n",
    "# Plot ave number of sessions\n",
    "plt.subplot(1, 2, 1)\n",
    "sns.barplot(x='injury', y='nr. sessions', data=grouped_df, ci=None)\n",
    "plt.title('Average Number of Sessions by Injury Status')\n",
    "plt.xlabel('Injury Status')\n",
    "plt.ylabel('Average Number of Sessions')\n",
    "\n",
    "# Plot ave number of kilometers\n",
    "plt.subplot(1, 2, 2)\n",
    "sns.barplot(x='injury', y='total kms', data=grouped_df, ci=None)\n",
    "plt.title('Average Number of Kilometers by Injury Status')\n",
    "plt.xlabel('Injury Status')\n",
    "plt.ylabel('Average Number of Kilometers')\n",
    "\n",
    "#Display\n",
    "plt.tight_layout()\n",
    "plt.show()"
   ]
  },
  {
   "cell_type": "code",
   "execution_count": 59,
   "id": "b291c1c4",
   "metadata": {},
   "outputs": [
    {
     "name": "stdout",
     "output_type": "stream",
     "text": [
      "Number of injuries (1): 575\n",
      "Number of no injuries (0): 42223\n"
     ]
    }
   ],
   "source": [
    "# Display the counts\n",
    "injury_counts = df['injury'].value_counts()\n",
    "print(\"Number of injuries (1):\", injury_counts[1])\n",
    "print(\"Number of no injuries (0):\", injury_counts[0])"
   ]
  },
  {
   "cell_type": "markdown",
   "id": "a69f4f82",
   "metadata": {},
   "source": [
    "### Section 2: Neural Network Modelling"
   ]
  },
  {
   "cell_type": "code",
   "execution_count": 69,
   "id": "f6142339",
   "metadata": {},
   "outputs": [],
   "source": [
    "# Extract target variable\n",
    "X = df.drop(columns=['Athlete ID', 'injury', 'Date'])  \n",
    "y = df['injury']"
   ]
  },
  {
   "cell_type": "code",
   "execution_count": 70,
   "id": "c5bbc05e",
   "metadata": {},
   "outputs": [],
   "source": [
    "# Split the data\n",
    "X_train, X_test, y_train, y_test = train_test_split(X, y, test_size=0.3, random_state=42)"
   ]
  },
  {
   "cell_type": "code",
   "execution_count": 62,
   "id": "9cb2db6a",
   "metadata": {},
   "outputs": [],
   "source": [
    "# Standardise\n",
    "scaler = StandardScaler()\n",
    "X_train = scaler.fit_transform(X_train)\n",
    "X_test = scaler.transform(X_test)"
   ]
  },
  {
   "cell_type": "code",
   "execution_count": 63,
   "id": "4fd1ca13",
   "metadata": {},
   "outputs": [
    {
     "name": "stdout",
     "output_type": "stream",
     "text": [
      "Epoch 1/10\n",
      "749/749 [==============================] - 2s 2ms/step - loss: 0.0963 - accuracy: 0.9771 - val_loss: 0.0678 - val_accuracy: 0.9878\n",
      "Epoch 2/10\n",
      "749/749 [==============================] - 1s 2ms/step - loss: 0.0757 - accuracy: 0.9855 - val_loss: 0.0683 - val_accuracy: 0.9878\n",
      "Epoch 3/10\n",
      "749/749 [==============================] - 1s 2ms/step - loss: 0.0734 - accuracy: 0.9855 - val_loss: 0.0657 - val_accuracy: 0.9878\n",
      "Epoch 4/10\n",
      "749/749 [==============================] - 1s 2ms/step - loss: 0.0712 - accuracy: 0.9855 - val_loss: 0.0657 - val_accuracy: 0.9878\n",
      "Epoch 5/10\n",
      "749/749 [==============================] - 1s 2ms/step - loss: 0.0696 - accuracy: 0.9855 - val_loss: 0.0671 - val_accuracy: 0.9878\n",
      "Epoch 6/10\n",
      "749/749 [==============================] - 2s 2ms/step - loss: 0.0674 - accuracy: 0.9856 - val_loss: 0.0676 - val_accuracy: 0.9878\n",
      "Epoch 7/10\n",
      "749/749 [==============================] - 1s 2ms/step - loss: 0.0656 - accuracy: 0.9855 - val_loss: 0.0673 - val_accuracy: 0.9878\n",
      "Epoch 8/10\n",
      "749/749 [==============================] - 1s 2ms/step - loss: 0.0633 - accuracy: 0.9856 - val_loss: 0.0672 - val_accuracy: 0.9878\n",
      "Epoch 9/10\n",
      "749/749 [==============================] - 1s 2ms/step - loss: 0.0612 - accuracy: 0.9858 - val_loss: 0.0681 - val_accuracy: 0.9878\n",
      "Epoch 10/10\n",
      "749/749 [==============================] - 1s 2ms/step - loss: 0.0585 - accuracy: 0.9860 - val_loss: 0.0759 - val_accuracy: 0.9871\n",
      "402/402 [==============================] - 1s 1ms/step - loss: 0.0771 - accuracy: 0.9871\n",
      "Model Accuracy: 0.9871495366096497\n"
     ]
    }
   ],
   "source": [
    "# A simple neural network\n",
    "model = Sequential()\n",
    "\n",
    "model.add(Dense(64, input_dim=X_train.shape[1], activation='relu'))\n",
    "model.add(Dense(32, activation='relu'))\n",
    "model.add(Dense(1, activation='sigmoid'))\n",
    "\n",
    "# Compile the model\n",
    "model.compile(optimizer='adam', loss='binary_crossentropy', metrics=['accuracy'])\n",
    "\n",
    "# Assuming 'model' is your Sequential model\n",
    "history = model.fit(X_train, y_train, validation_split=0.2, epochs=10, batch_size=32)\n",
    "\n",
    "# Evaluate the model\n",
    "accuracy = model.evaluate(X_test, y_test)[1]\n",
    "print(\"Model Accuracy:\", accuracy)"
   ]
  },
  {
   "cell_type": "code",
   "execution_count": 64,
   "id": "780a30dc",
   "metadata": {},
   "outputs": [
    {
     "name": "stdout",
     "output_type": "stream",
     "text": [
      "402/402 [==============================] - 1s 1ms/step\n"
     ]
    },
    {
     "data": {
      "image/png": "[encoded data removed]",
      "text/plain": [
       "<Figure size 800x600 with 2 Axes>"
      ]
     },
     "metadata": {},
     "output_type": "display_data"
    }
   ],
   "source": [
    "# Make predictions\n",
    "y_prob = model.predict(X_test)\n",
    "y_pred = (y_prob > 0.5).astype(int)\n",
    "\n",
    "# Confusion matrix\n",
    "confusion = confusion_matrix(y_test, y_pred)\n",
    "\n",
    "# Plot \n",
    "plt.figure(figsize=(8, 6))\n",
    "sns.heatmap(confusion, annot=True, fmt=\"d\", cmap=\"Blues\", \n",
    "            xticklabels=['Not Injured', 'Injured'], \n",
    "            yticklabels=['Not Injured', 'Injured'])\n",
    "\n",
    "\n",
    "plt.title('Confusion Matrix')\n",
    "plt.xlabel('Predicted')\n",
    "plt.ylabel('Actual')\n",
    "plt.show()"
   ]
  },
  {
   "cell_type": "markdown",
   "id": "416cf367",
   "metadata": {},
   "source": [
    "Accuracy is not the best way to view this model given the class imbalance"
   ]
  },
  {
   "cell_type": "code",
   "execution_count": 65,
   "id": "5cc8d00d",
   "metadata": {
    "scrolled": false
   },
   "outputs": [
    {
     "data": {
      "image/png": "[encoded data removed]",
      "text/plain": [
       "<Figure size 800x600 with 1 Axes>"
      ]
     },
     "metadata": {},
     "output_type": "display_data"
    }
   ],
   "source": [
    "# Calculate ROC curve\n",
    "fpr, tpr, thresholds = roc_curve(y_test, y_prob)\n",
    "\n",
    "# Calculate AUC (Area Under the Curve)\n",
    "roc_auc = auc(fpr, tpr)\n",
    "\n",
    "# Plot ROC curve\n",
    "plt.figure(figsize=(8, 6))\n",
    "plt.plot(fpr, tpr, color='darkorange', lw=2, label=f'AUC = {roc_auc:.2f}')\n",
    "plt.plot([0, 1], [0, 1], color='navy', lw=2, linestyle='--')\n",
    "plt.xlabel('False Positive Rate')\n",
    "plt.ylabel('True Positive Rate')\n",
    "plt.title('Receiver Operating Characteristic (ROC) Curve')\n",
    "plt.legend(loc='lower right')\n",
    "plt.show()"
   ]
  },
  {
   "cell_type": "markdown",
   "id": "8d4a8df4",
   "metadata": {},
   "source": [
    "ROC of 0.64 suggests that the model has a moderate discriminative ability"
   ]
  },
  {
   "cell_type": "code",
   "execution_count": 66,
   "id": "c485aed1",
   "metadata": {},
   "outputs": [
    {
     "name": "stdout",
     "output_type": "stream",
     "text": [
      "402/402 [==============================] - 0s 1ms/step\n",
      "Model Precision: 0.08333333333333333\n"
     ]
    }
   ],
   "source": [
    "# Make predictions\n",
    "y_pred = model.predict(X_test)\n",
    "\n",
    "# Convert probabilities to binary predictions\n",
    "y_pred_binary = (y_pred > 0.5).astype(int)\n",
    "\n",
    "# Calculate precision\n",
    "precision = precision_score(y_test, y_pred_binary)\n",
    "\n",
    "print(\"Model Precision:\", precision)"
   ]
  },
  {
   "cell_type": "markdown",
   "id": "6b0ae43d",
   "metadata": {},
   "source": [
    "### Section 3: Balancing Classes"
   ]
  },
  {
   "cell_type": "code",
   "execution_count": 67,
   "id": "fe9f6dd3",
   "metadata": {},
   "outputs": [
    {
     "name": "stdout",
     "output_type": "stream",
     "text": [
      "Epoch 1/10\n",
      "749/749 [==============================] - 2s 2ms/step - loss: 0.5558 - accuracy: 0.8330 - val_loss: 0.4358 - val_accuracy: 0.7999\n",
      "Epoch 2/10\n",
      "749/749 [==============================] - 1s 2ms/step - loss: 0.4556 - accuracy: 0.8188 - val_loss: 0.4179 - val_accuracy: 0.8279\n",
      "Epoch 3/10\n",
      "749/749 [==============================] - 2s 2ms/step - loss: 0.4209 - accuracy: 0.8228 - val_loss: 0.3662 - val_accuracy: 0.8461\n",
      "Epoch 4/10\n",
      "749/749 [==============================] - 1s 2ms/step - loss: 0.3980 - accuracy: 0.8375 - val_loss: 0.3692 - val_accuracy: 0.8565\n",
      "Epoch 5/10\n",
      "749/749 [==============================] - 1s 2ms/step - loss: 0.3685 - accuracy: 0.8374 - val_loss: 0.5116 - val_accuracy: 0.7528\n",
      "Epoch 6/10\n",
      "749/749 [==============================] - 1s 2ms/step - loss: 0.3541 - accuracy: 0.8422 - val_loss: 0.3690 - val_accuracy: 0.8435\n",
      "Epoch 7/10\n",
      "749/749 [==============================] - 1s 2ms/step - loss: 0.3298 - accuracy: 0.8554 - val_loss: 0.4942 - val_accuracy: 0.7735\n",
      "Epoch 8/10\n",
      "749/749 [==============================] - 1s 2ms/step - loss: 0.3010 - accuracy: 0.8716 - val_loss: 0.2757 - val_accuracy: 0.8919\n",
      "Epoch 9/10\n",
      "749/749 [==============================] - 1s 2ms/step - loss: 0.2811 - accuracy: 0.8756 - val_loss: 0.2486 - val_accuracy: 0.9067\n",
      "Epoch 10/10\n",
      "749/749 [==============================] - 1s 2ms/step - loss: 0.2668 - accuracy: 0.8827 - val_loss: 0.3675 - val_accuracy: 0.8455\n",
      "402/402 [==============================] - 1s 1ms/step - loss: 0.3712 - accuracy: 0.8449\n",
      "Model Accuracy: 0.8449376821517944\n",
      "402/402 [==============================] - 0s 1ms/step\n"
     ]
    }
   ],
   "source": [
    "# Calculate class weights\n",
    "class_weights = compute_class_weight('balanced', classes=np.unique(y_train), y=y_train)\n",
    "class_weight = dict(zip(np.unique(y_train), class_weights))\n",
    "\n",
    "# Compile the model with class weights\n",
    "model.compile(optimizer='adam', loss='binary_crossentropy', metrics=['accuracy'])\n",
    "\n",
    "# Train the model with class weights\n",
    "history = model.fit(X_train, y_train, validation_split=0.2, epochs=10, batch_size=32, class_weight=class_weight)\n",
    "\n",
    "# Evaluate the model\n",
    "accuracy = model.evaluate(X_test, y_test)[1]\n",
    "print(\"Model Accuracy:\", accuracy)\n",
    "\n",
    "# Make predictions\n",
    "y_pred = model.predict(X_test)\n",
    "y_pred_binary = (y_pred > 0.5).astype(int)"
   ]
  },
  {
   "cell_type": "code",
   "execution_count": 68,
   "id": "21e19478",
   "metadata": {},
   "outputs": [
    {
     "name": "stdout",
     "output_type": "stream",
     "text": [
      "Model Precision: 0.02037617554858934\n"
     ]
    }
   ],
   "source": [
    "# Calculate precision\n",
    "precision = precision_score(y_test, y_pred_binary)\n",
    "print(\"Model Precision:\", precision)"
   ]
  }
 ],
 "metadata": {
  "kernelspec": {
   "display_name": "Python 3 (ipykernel)",
   "language": "python",
   "name": "python3"
  },
  "language_info": {
   "codemirror_mode": {
    "name": "ipython",
    "version": 3
   },
   "file_extension": ".py",
   "mimetype": "text/x-python",
   "name": "python",
   "nbconvert_exporter": "python",
   "pygments_lexer": "ipython3",
   "version": "3.10.9"
  }
 },
 "nbformat": 4,
 "nbformat_minor": 5
}
